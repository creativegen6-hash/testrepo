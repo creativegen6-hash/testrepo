{
 "cells": [
  {
   "cell_type": "markdown",
   "id": "b1030181",
   "metadata": {},
   "source": [
    "# Question 1: Use yfinance to Extract Stock Data (Tesla)"
   ]
  },
  {
   "cell_type": "code",
   "execution_count": null,
   "id": "1496f82b",
   "metadata": {},
   "outputs": [],
   "source": [
    "\n",
    "import yfinance as yf\n",
    "import pandas as pd\n",
    "import requests\n",
    "from bs4 import BeautifulSoup\n",
    "\n",
    "# QA: Create Ticker object for Tesla\n",
    "tesla = yf.Ticker(\"TSLA\")\n",
    "\n",
    "# QB: Extract stock info with history, period max\n",
    "tesla_data = tesla.history(period=\"max\")\n",
    "\n",
    "# QC: Reset index\n",
    "tesla_data.reset_index(inplace=True)\n",
    "\n",
    "# Display first 5 rows\n",
    "tesla_data.head()\n"
   ]
  },
  {
   "cell_type": "markdown",
   "id": "f56bbb91",
   "metadata": {},
   "source": [
    "# Question 2: Webscraping Tesla Revenue Data"
   ]
  },
  {
   "cell_type": "code",
   "execution_count": null,
   "id": "39843036",
   "metadata": {},
   "outputs": [],
   "source": [
    "\n",
    "# QA: Download the webpage\n",
    "url_tesla = \"https://cf-courses-data.s3.us.cloud-object-storage.appdomain.cloud/IBMDeveloperSkillsNetwork-PY0220EN-SkillsNetwork/labs/project/revenue.htm\"\n",
    "html_data = requests.get(url_tesla).text\n",
    "\n",
    "# QB: Parse with BeautifulSoup\n",
    "soup = BeautifulSoup(html_data, \"html.parser\")\n",
    "\n",
    "# QC: Extract Tesla Revenue table\n",
    "tesla_revenue = pd.DataFrame(columns=[\"Date\", \"Revenue\"])\n",
    "\n",
    "for row in soup.find_all(\"tbody\")[1].find_all(\"tr\"):\n",
    "    col = row.find_all(\"td\")\n",
    "    date = col[0].text\n",
    "    revenue = col[1].text\n",
    "    tesla_revenue = pd.concat(\n",
    "        [tesla_revenue, pd.DataFrame({\"Date\":[date], \"Revenue\":[revenue]})],\n",
    "        ignore_index=True\n",
    "    )\n",
    "\n",
    "# QD: Remove $ and commas\n",
    "tesla_revenue[\"Revenue\"] = tesla_revenue[\"Revenue\"].str.replace(\",\", \"\")\n",
    "tesla_revenue[\"Revenue\"] = tesla_revenue[\"Revenue\"].str.replace(\"$\", \"\")\n",
    "\n",
    "# QE: Remove null / empty\n",
    "tesla_revenue = tesla_revenue[tesla_revenue[\"Revenue\"] != \"\"]\n",
    "\n",
    "# QF: Display last 5 rows\n",
    "tesla_revenue.tail()\n"
   ]
  },
  {
   "cell_type": "markdown",
   "id": "e2a3e466",
   "metadata": {},
   "source": [
    "# Question 3: Use yfinance to Extract Stock Data (GameStop)"
   ]
  },
  {
   "cell_type": "code",
   "execution_count": null,
   "id": "1de9b704",
   "metadata": {},
   "outputs": [],
   "source": [
    "\n",
    "# QA: Create Ticker object for GameStop\n",
    "gme = yf.Ticker(\"GME\")\n",
    "\n",
    "# QB: Extract stock info\n",
    "gme_data = gme.history(period=\"max\")\n",
    "\n",
    "# QC: Reset index\n",
    "gme_data.reset_index(inplace=True)\n",
    "\n",
    "# Display first 5 rows\n",
    "gme_data.head()\n"
   ]
  },
  {
   "cell_type": "markdown",
   "id": "4507a969",
   "metadata": {},
   "source": [
    "# Question 4: Webscraping GME Revenue Data"
   ]
  },
  {
   "cell_type": "code",
   "execution_count": null,
   "id": "75588dba",
   "metadata": {},
   "outputs": [],
   "source": [
    "\n",
    "# QA: Download the webpage\n",
    "url_gme = \"https://cf-courses-data.s3.us.cloud-object-storage.appdomain.cloud/IBMDeveloperSkillsNetwork-PY0220EN-SkillsNetwork/labs/project/stock.html\"\n",
    "html_data_2 = requests.get(url_gme).text\n",
    "\n",
    "# QB: Parse HTML\n",
    "soup = BeautifulSoup(html_data_2, \"html.parser\")\n",
    "\n",
    "# QC: Extract GameStop Revenue table\n",
    "gme_revenue = pd.DataFrame(columns=[\"Date\", \"Revenue\"])\n",
    "\n",
    "for row in soup.find_all(\"tbody\")[1].find_all(\"tr\"):\n",
    "    col = row.find_all(\"td\")\n",
    "    date = col[0].text\n",
    "    revenue = col[1].text\n",
    "    gme_revenue = pd.concat(\n",
    "        [gme_revenue, pd.DataFrame({\"Date\":[date], \"Revenue\":[revenue]})],\n",
    "        ignore_index=True\n",
    "    )\n",
    "\n",
    "# Clean revenue column\n",
    "gme_revenue[\"Revenue\"] = gme_revenue[\"Revenue\"].str.replace(\",\", \"\")\n",
    "gme_revenue[\"Revenue\"] = gme_revenue[\"Revenue\"].str.replace(\"$\", \"\")\n",
    "gme_revenue = gme_revenue[gme_revenue[\"Revenue\"] != \"\"]\n",
    "\n",
    "# QD: Display last 5 rows\n",
    "gme_revenue.tail()\n"
   ]
  },
  {
   "cell_type": "markdown",
   "id": "e3f4a4b5",
   "metadata": {},
   "source": [
    "# Question 5 & 6: Plot Tesla and GameStop Stock Graphs"
   ]
  },
  {
   "cell_type": "code",
   "execution_count": null,
   "id": "85636f83",
   "metadata": {},
   "outputs": [],
   "source": [
    "\n",
    "import plotly.graph_objects as go\n",
    "from plotly.subplots import make_subplots\n",
    "\n",
    "def make_graph(stock_data, revenue_data, stock):\n",
    "    fig = make_subplots(rows=2, cols=1, shared_xaxes=True, subplot_titles=(\"Historical Share Price\", \"Historical Revenue\"), vertical_spacing = .3)\n",
    "    stock_data_specific = stock_data[stock_data.Date <= '2021-06-14']\n",
    "    revenue_data_specific = revenue_data[revenue_data.Date <= '2021-04-30']\n",
    "    fig.add_trace(go.Scatter(x=pd.to_datetime(stock_data_specific.Date, infer_datetime_format=True), y=stock_data_specific.Close.astype(\"float\"), name=\"Share Price\"), row=1, col=1)\n",
    "    fig.add_trace(go.Scatter(x=pd.to_datetime(revenue_data_specific.Date, infer_datetime_format=True), y=revenue_data_specific.Revenue.astype(\"float\"), name=\"Revenue\"), row=2, col=1)\n",
    "    fig.update_xaxes(title_text=\"Date\", row=1, col=1)\n",
    "    fig.update_xaxes(title_text=\"Date\", row=2, col=1)\n",
    "    fig.update_yaxes(title_text=\"Price ($US)\", row=1, col=1)\n",
    "    fig.update_yaxes(title_text=\"Revenue ($US Millions)\", row=2, col=1)\n",
    "    fig.update_layout(showlegend=False,\n",
    "    height=900,\n",
    "    title=stock,\n",
    "    xaxis_rangeslider_visible=True)\n",
    "    fig.show()\n",
    "\n",
    "# Tesla graph\n",
    "make_graph(tesla_data, tesla_revenue, \"Tesla\")\n",
    "\n",
    "# GameStop graph\n",
    "make_graph(gme_data, gme_revenue, \"GameStop\")\n"
   ]
  }
 ],
 "metadata": {},
 "nbformat": 4,
 "nbformat_minor": 5
}
